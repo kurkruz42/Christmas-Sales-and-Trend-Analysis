{
 "cells": [
  {
   "cell_type": "markdown",
   "id": "d5aa35ee",
   "metadata": {},
   "source": [
    "# Christmas Sales and Trend Data Analysis."
   ]
  },
  {
   "cell_type": "markdown",
   "id": "6a417378",
   "metadata": {},
   "source": [
    "### Import Libraries."
   ]
  },
  {
   "cell_type": "code",
   "execution_count": 1,
   "id": "781c896a",
   "metadata": {},
   "outputs": [],
   "source": [
    "import numpy as np\n",
    "import pandas as pd\n",
    "import matplotlib.pyplot as plt\n",
    "%matplotlib inline\n",
    "plt.style.use('fivethirtyeight')\n",
    "import seaborn as sns\n",
    "import warnings\n",
    "warnings.filterwarnings('ignore')\n",
    "from copy import deepcopy"
   ]
  },
  {
   "cell_type": "markdown",
   "id": "60e49f2b",
   "metadata": {},
   "source": [
    "### Data Extraction."
   ]
  },
  {
   "cell_type": "code",
   "execution_count": 2,
   "id": "9349feab",
   "metadata": {},
   "outputs": [],
   "source": [
    "#The dataset for christmas sales.\n",
    "data = 'Christmas Sales and Trends.csv'"
   ]
  },
  {
   "cell_type": "markdown",
   "id": "6adf614d",
   "metadata": {},
   "source": [
    "### Dataframe Creation."
   ]
  },
  {
   "cell_type": "code",
   "execution_count": 3,
   "id": "e890ca6a",
   "metadata": {},
   "outputs": [],
   "source": [
    "df = pd.read_csv(data)"
   ]
  },
  {
   "cell_type": "code",
   "execution_count": 4,
   "id": "31526c2d",
   "metadata": {},
   "outputs": [
    {
     "data": {
      "text/html": [
       "<div>\n",
       "<style scoped>\n",
       "    .dataframe tbody tr th:only-of-type {\n",
       "        vertical-align: middle;\n",
       "    }\n",
       "\n",
       "    .dataframe tbody tr th {\n",
       "        vertical-align: top;\n",
       "    }\n",
       "\n",
       "    .dataframe thead th {\n",
       "        text-align: right;\n",
       "    }\n",
       "</style>\n",
       "<table border=\"1\" class=\"dataframe\">\n",
       "  <thead>\n",
       "    <tr style=\"text-align: right;\">\n",
       "      <th></th>\n",
       "      <th>TransactionID</th>\n",
       "      <th>Date</th>\n",
       "      <th>Time</th>\n",
       "      <th>CustomerID</th>\n",
       "      <th>Age</th>\n",
       "      <th>Gender</th>\n",
       "      <th>Location</th>\n",
       "      <th>StoreID</th>\n",
       "      <th>OnlineOrderFlag</th>\n",
       "      <th>ProductID</th>\n",
       "      <th>...</th>\n",
       "      <th>PaymentType</th>\n",
       "      <th>PromotionApplied</th>\n",
       "      <th>DiscountAmount</th>\n",
       "      <th>GiftWrap</th>\n",
       "      <th>ShippingMethod</th>\n",
       "      <th>DeliveryTime</th>\n",
       "      <th>Weather</th>\n",
       "      <th>Event</th>\n",
       "      <th>CustomerSatisfaction</th>\n",
       "      <th>ReturnFlag</th>\n",
       "    </tr>\n",
       "  </thead>\n",
       "  <tbody>\n",
       "    <tr>\n",
       "      <th>0</th>\n",
       "      <td>1</td>\n",
       "      <td>12/24/2020</td>\n",
       "      <td>7:27:59</td>\n",
       "      <td>441</td>\n",
       "      <td>27</td>\n",
       "      <td>Other</td>\n",
       "      <td>City_15</td>\n",
       "      <td>NaN</td>\n",
       "      <td>True</td>\n",
       "      <td>106</td>\n",
       "      <td>...</td>\n",
       "      <td>Credit Card</td>\n",
       "      <td>False</td>\n",
       "      <td>0.000000</td>\n",
       "      <td>False</td>\n",
       "      <td>Standard</td>\n",
       "      <td>5.0</td>\n",
       "      <td>Snowy</td>\n",
       "      <td>NaN</td>\n",
       "      <td>5</td>\n",
       "      <td>False</td>\n",
       "    </tr>\n",
       "    <tr>\n",
       "      <th>1</th>\n",
       "      <td>2</td>\n",
       "      <td>11/18/2022</td>\n",
       "      <td>14:36:39</td>\n",
       "      <td>340</td>\n",
       "      <td>43</td>\n",
       "      <td>Male</td>\n",
       "      <td>City_13</td>\n",
       "      <td>NaN</td>\n",
       "      <td>True</td>\n",
       "      <td>816</td>\n",
       "      <td>...</td>\n",
       "      <td>Credit Card</td>\n",
       "      <td>True</td>\n",
       "      <td>0.000000</td>\n",
       "      <td>True</td>\n",
       "      <td>Express</td>\n",
       "      <td>3.0</td>\n",
       "      <td>Sunny</td>\n",
       "      <td>NaN</td>\n",
       "      <td>2</td>\n",
       "      <td>True</td>\n",
       "    </tr>\n",
       "    <tr>\n",
       "      <th>2</th>\n",
       "      <td>3</td>\n",
       "      <td>12/26/2019</td>\n",
       "      <td>20:23:50</td>\n",
       "      <td>31</td>\n",
       "      <td>25</td>\n",
       "      <td>Other</td>\n",
       "      <td>City_7</td>\n",
       "      <td>92.0</td>\n",
       "      <td>False</td>\n",
       "      <td>508</td>\n",
       "      <td>...</td>\n",
       "      <td>Credit Card</td>\n",
       "      <td>False</td>\n",
       "      <td>0.000000</td>\n",
       "      <td>False</td>\n",
       "      <td>NaN</td>\n",
       "      <td>NaN</td>\n",
       "      <td>Rainy</td>\n",
       "      <td>Christmas Market</td>\n",
       "      <td>4</td>\n",
       "      <td>False</td>\n",
       "    </tr>\n",
       "    <tr>\n",
       "      <th>3</th>\n",
       "      <td>4</td>\n",
       "      <td>11/13/2018</td>\n",
       "      <td>23:08:08</td>\n",
       "      <td>39</td>\n",
       "      <td>64</td>\n",
       "      <td>Male</td>\n",
       "      <td>City_20</td>\n",
       "      <td>100.0</td>\n",
       "      <td>False</td>\n",
       "      <td>710</td>\n",
       "      <td>...</td>\n",
       "      <td>Debit Card</td>\n",
       "      <td>False</td>\n",
       "      <td>0.000000</td>\n",
       "      <td>True</td>\n",
       "      <td>NaN</td>\n",
       "      <td>NaN</td>\n",
       "      <td>Rainy</td>\n",
       "      <td>NaN</td>\n",
       "      <td>1</td>\n",
       "      <td>True</td>\n",
       "    </tr>\n",
       "    <tr>\n",
       "      <th>4</th>\n",
       "      <td>5</td>\n",
       "      <td>12/13/2020</td>\n",
       "      <td>4:38:08</td>\n",
       "      <td>344</td>\n",
       "      <td>26</td>\n",
       "      <td>Other</td>\n",
       "      <td>City_10</td>\n",
       "      <td>90.0</td>\n",
       "      <td>False</td>\n",
       "      <td>687</td>\n",
       "      <td>...</td>\n",
       "      <td>Cash</td>\n",
       "      <td>False</td>\n",
       "      <td>0.000000</td>\n",
       "      <td>True</td>\n",
       "      <td>NaN</td>\n",
       "      <td>NaN</td>\n",
       "      <td>Sunny</td>\n",
       "      <td>Christmas Market</td>\n",
       "      <td>4</td>\n",
       "      <td>False</td>\n",
       "    </tr>\n",
       "    <tr>\n",
       "      <th>...</th>\n",
       "      <td>...</td>\n",
       "      <td>...</td>\n",
       "      <td>...</td>\n",
       "      <td>...</td>\n",
       "      <td>...</td>\n",
       "      <td>...</td>\n",
       "      <td>...</td>\n",
       "      <td>...</td>\n",
       "      <td>...</td>\n",
       "      <td>...</td>\n",
       "      <td>...</td>\n",
       "      <td>...</td>\n",
       "      <td>...</td>\n",
       "      <td>...</td>\n",
       "      <td>...</td>\n",
       "      <td>...</td>\n",
       "      <td>...</td>\n",
       "      <td>...</td>\n",
       "      <td>...</td>\n",
       "      <td>...</td>\n",
       "      <td>...</td>\n",
       "    </tr>\n",
       "    <tr>\n",
       "      <th>9995</th>\n",
       "      <td>9996</td>\n",
       "      <td>12/21/2022</td>\n",
       "      <td>12:05:06</td>\n",
       "      <td>245</td>\n",
       "      <td>25</td>\n",
       "      <td>Other</td>\n",
       "      <td>City_10</td>\n",
       "      <td>NaN</td>\n",
       "      <td>True</td>\n",
       "      <td>54</td>\n",
       "      <td>...</td>\n",
       "      <td>Credit Card</td>\n",
       "      <td>False</td>\n",
       "      <td>9.107212</td>\n",
       "      <td>True</td>\n",
       "      <td>Express</td>\n",
       "      <td>4.0</td>\n",
       "      <td>Sunny</td>\n",
       "      <td>Black Friday</td>\n",
       "      <td>4</td>\n",
       "      <td>False</td>\n",
       "    </tr>\n",
       "    <tr>\n",
       "      <th>9996</th>\n",
       "      <td>9997</td>\n",
       "      <td>11/24/2022</td>\n",
       "      <td>17:28:29</td>\n",
       "      <td>295</td>\n",
       "      <td>46</td>\n",
       "      <td>Female</td>\n",
       "      <td>City_17</td>\n",
       "      <td>NaN</td>\n",
       "      <td>True</td>\n",
       "      <td>324</td>\n",
       "      <td>...</td>\n",
       "      <td>Debit Card</td>\n",
       "      <td>True</td>\n",
       "      <td>4.153859</td>\n",
       "      <td>True</td>\n",
       "      <td>Express</td>\n",
       "      <td>5.0</td>\n",
       "      <td>Rainy</td>\n",
       "      <td>Black Friday</td>\n",
       "      <td>2</td>\n",
       "      <td>True</td>\n",
       "    </tr>\n",
       "    <tr>\n",
       "      <th>9997</th>\n",
       "      <td>9998</td>\n",
       "      <td>11/2/2021</td>\n",
       "      <td>23:20:58</td>\n",
       "      <td>202</td>\n",
       "      <td>46</td>\n",
       "      <td>Female</td>\n",
       "      <td>City_13</td>\n",
       "      <td>22.0</td>\n",
       "      <td>False</td>\n",
       "      <td>892</td>\n",
       "      <td>...</td>\n",
       "      <td>Cash</td>\n",
       "      <td>True</td>\n",
       "      <td>7.368328</td>\n",
       "      <td>True</td>\n",
       "      <td>NaN</td>\n",
       "      <td>NaN</td>\n",
       "      <td>Snowy</td>\n",
       "      <td>Black Friday</td>\n",
       "      <td>2</td>\n",
       "      <td>False</td>\n",
       "    </tr>\n",
       "    <tr>\n",
       "      <th>9998</th>\n",
       "      <td>9999</td>\n",
       "      <td>11/11/2020</td>\n",
       "      <td>11:33:17</td>\n",
       "      <td>310</td>\n",
       "      <td>64</td>\n",
       "      <td>Other</td>\n",
       "      <td>City_8</td>\n",
       "      <td>NaN</td>\n",
       "      <td>True</td>\n",
       "      <td>237</td>\n",
       "      <td>...</td>\n",
       "      <td>Online Payment</td>\n",
       "      <td>True</td>\n",
       "      <td>0.000000</td>\n",
       "      <td>True</td>\n",
       "      <td>Express</td>\n",
       "      <td>1.0</td>\n",
       "      <td>Sunny</td>\n",
       "      <td>Christmas Market</td>\n",
       "      <td>1</td>\n",
       "      <td>False</td>\n",
       "    </tr>\n",
       "    <tr>\n",
       "      <th>9999</th>\n",
       "      <td>10000</td>\n",
       "      <td>11/16/2022</td>\n",
       "      <td>17:01:01</td>\n",
       "      <td>469</td>\n",
       "      <td>39</td>\n",
       "      <td>Female</td>\n",
       "      <td>City_15</td>\n",
       "      <td>NaN</td>\n",
       "      <td>True</td>\n",
       "      <td>490</td>\n",
       "      <td>...</td>\n",
       "      <td>Cash</td>\n",
       "      <td>True</td>\n",
       "      <td>0.000000</td>\n",
       "      <td>True</td>\n",
       "      <td>Overnight</td>\n",
       "      <td>2.0</td>\n",
       "      <td>Snowy</td>\n",
       "      <td>Christmas Market</td>\n",
       "      <td>2</td>\n",
       "      <td>True</td>\n",
       "    </tr>\n",
       "  </tbody>\n",
       "</table>\n",
       "<p>10000 rows × 25 columns</p>\n",
       "</div>"
      ],
      "text/plain": [
       "      TransactionID        Date      Time  CustomerID  Age  Gender Location  \\\n",
       "0                 1  12/24/2020   7:27:59         441   27   Other  City_15   \n",
       "1                 2  11/18/2022  14:36:39         340   43    Male  City_13   \n",
       "2                 3  12/26/2019  20:23:50          31   25   Other   City_7   \n",
       "3                 4  11/13/2018  23:08:08          39   64    Male  City_20   \n",
       "4                 5  12/13/2020   4:38:08         344   26   Other  City_10   \n",
       "...             ...         ...       ...         ...  ...     ...      ...   \n",
       "9995           9996  12/21/2022  12:05:06         245   25   Other  City_10   \n",
       "9996           9997  11/24/2022  17:28:29         295   46  Female  City_17   \n",
       "9997           9998   11/2/2021  23:20:58         202   46  Female  City_13   \n",
       "9998           9999  11/11/2020  11:33:17         310   64   Other   City_8   \n",
       "9999          10000  11/16/2022  17:01:01         469   39  Female  City_15   \n",
       "\n",
       "      StoreID  OnlineOrderFlag  ProductID  ...     PaymentType  \\\n",
       "0         NaN             True        106  ...     Credit Card   \n",
       "1         NaN             True        816  ...     Credit Card   \n",
       "2        92.0            False        508  ...     Credit Card   \n",
       "3       100.0            False        710  ...      Debit Card   \n",
       "4        90.0            False        687  ...            Cash   \n",
       "...       ...              ...        ...  ...             ...   \n",
       "9995      NaN             True         54  ...     Credit Card   \n",
       "9996      NaN             True        324  ...      Debit Card   \n",
       "9997     22.0            False        892  ...            Cash   \n",
       "9998      NaN             True        237  ...  Online Payment   \n",
       "9999      NaN             True        490  ...            Cash   \n",
       "\n",
       "     PromotionApplied  DiscountAmount  GiftWrap  ShippingMethod DeliveryTime  \\\n",
       "0               False        0.000000     False        Standard          5.0   \n",
       "1                True        0.000000      True         Express          3.0   \n",
       "2               False        0.000000     False             NaN          NaN   \n",
       "3               False        0.000000      True             NaN          NaN   \n",
       "4               False        0.000000      True             NaN          NaN   \n",
       "...               ...             ...       ...             ...          ...   \n",
       "9995            False        9.107212      True         Express          4.0   \n",
       "9996             True        4.153859      True         Express          5.0   \n",
       "9997             True        7.368328      True             NaN          NaN   \n",
       "9998             True        0.000000      True         Express          1.0   \n",
       "9999             True        0.000000      True       Overnight          2.0   \n",
       "\n",
       "      Weather             Event  CustomerSatisfaction ReturnFlag  \n",
       "0       Snowy               NaN                     5      False  \n",
       "1       Sunny               NaN                     2       True  \n",
       "2       Rainy  Christmas Market                     4      False  \n",
       "3       Rainy               NaN                     1       True  \n",
       "4       Sunny  Christmas Market                     4      False  \n",
       "...       ...               ...                   ...        ...  \n",
       "9995    Sunny      Black Friday                     4      False  \n",
       "9996    Rainy      Black Friday                     2       True  \n",
       "9997    Snowy      Black Friday                     2      False  \n",
       "9998    Sunny  Christmas Market                     1      False  \n",
       "9999    Snowy  Christmas Market                     2       True  \n",
       "\n",
       "[10000 rows x 25 columns]"
      ]
     },
     "execution_count": 4,
     "metadata": {},
     "output_type": "execute_result"
    }
   ],
   "source": [
    "df"
   ]
  },
  {
   "cell_type": "markdown",
   "id": "d653677c",
   "metadata": {},
   "source": [
    "### Data Cleaning."
   ]
  },
  {
   "cell_type": "code",
   "execution_count": 5,
   "id": "5d08dd5e",
   "metadata": {},
   "outputs": [
    {
     "data": {
      "text/plain": [
       "TransactionID             int64\n",
       "Date                     object\n",
       "Time                     object\n",
       "CustomerID                int64\n",
       "Age                       int64\n",
       "Gender                   object\n",
       "Location                 object\n",
       "StoreID                 float64\n",
       "OnlineOrderFlag            bool\n",
       "ProductID                 int64\n",
       "ProductName              object\n",
       "Category                 object\n",
       "Quantity                  int64\n",
       "UnitPrice               float64\n",
       "TotalPrice              float64\n",
       "PaymentType              object\n",
       "PromotionApplied           bool\n",
       "DiscountAmount          float64\n",
       "GiftWrap                   bool\n",
       "ShippingMethod           object\n",
       "DeliveryTime            float64\n",
       "Weather                  object\n",
       "Event                    object\n",
       "CustomerSatisfaction      int64\n",
       "ReturnFlag                 bool\n",
       "dtype: object"
      ]
     },
     "execution_count": 5,
     "metadata": {},
     "output_type": "execute_result"
    }
   ],
   "source": [
    "#Checking the data types.\n",
    "df.dtypes"
   ]
  },
  {
   "cell_type": "code",
   "execution_count": 6,
   "id": "b4d403c0",
   "metadata": {},
   "outputs": [],
   "source": [
    "#Removing commas in the numerical data.\n",
    "df = df.replace(',','',regex = True)"
   ]
  },
  {
   "cell_type": "code",
   "execution_count": 7,
   "id": "c10c1f75",
   "metadata": {
    "collapsed": true
   },
   "outputs": [
    {
     "data": {
      "text/plain": [
       "TransactionID              0\n",
       "Date                       0\n",
       "Time                       0\n",
       "CustomerID                 0\n",
       "Age                        0\n",
       "Gender                     0\n",
       "Location                   0\n",
       "StoreID                 5418\n",
       "OnlineOrderFlag            0\n",
       "ProductID                  0\n",
       "ProductName                0\n",
       "Category                   0\n",
       "Quantity                   0\n",
       "UnitPrice                  0\n",
       "TotalPrice                 0\n",
       "PaymentType                0\n",
       "PromotionApplied           0\n",
       "DiscountAmount             0\n",
       "GiftWrap                   0\n",
       "ShippingMethod          4582\n",
       "DeliveryTime            4582\n",
       "Weather                    0\n",
       "Event                   2838\n",
       "CustomerSatisfaction       0\n",
       "ReturnFlag                 0\n",
       "dtype: int64"
      ]
     },
     "execution_count": 7,
     "metadata": {},
     "output_type": "execute_result"
    }
   ],
   "source": [
    "df.isnull().sum()"
   ]
  },
  {
   "cell_type": "code",
   "execution_count": 8,
   "id": "50f75ad3",
   "metadata": {
    "scrolled": true
   },
   "outputs": [],
   "source": [
    "df.drop('StoreID',axis = 1, inplace = True)\n",
    "df.drop('ShippingMethod',axis = 1, inplace = True)\n",
    "df.drop('DeliveryTime',axis = 1, inplace = True)\n",
    "df.drop('Event',axis = 1, inplace = True)\n"
   ]
  },
  {
   "cell_type": "code",
   "execution_count": 9,
   "id": "8f8d64ac",
   "metadata": {},
   "outputs": [
    {
     "data": {
      "text/plain": [
       "TransactionID           0\n",
       "Date                    0\n",
       "Time                    0\n",
       "CustomerID              0\n",
       "Age                     0\n",
       "Gender                  0\n",
       "Location                0\n",
       "OnlineOrderFlag         0\n",
       "ProductID               0\n",
       "ProductName             0\n",
       "Category                0\n",
       "Quantity                0\n",
       "UnitPrice               0\n",
       "TotalPrice              0\n",
       "PaymentType             0\n",
       "PromotionApplied        0\n",
       "DiscountAmount          0\n",
       "GiftWrap                0\n",
       "Weather                 0\n",
       "CustomerSatisfaction    0\n",
       "ReturnFlag              0\n",
       "dtype: int64"
      ]
     },
     "execution_count": 9,
     "metadata": {},
     "output_type": "execute_result"
    }
   ],
   "source": [
    "df.isnull().sum()"
   ]
  },
  {
   "cell_type": "code",
   "execution_count": 10,
   "id": "1d78a0b5",
   "metadata": {
    "collapsed": true
   },
   "outputs": [
    {
     "data": {
      "text/html": [
       "<div>\n",
       "<style scoped>\n",
       "    .dataframe tbody tr th:only-of-type {\n",
       "        vertical-align: middle;\n",
       "    }\n",
       "\n",
       "    .dataframe tbody tr th {\n",
       "        vertical-align: top;\n",
       "    }\n",
       "\n",
       "    .dataframe thead th {\n",
       "        text-align: right;\n",
       "    }\n",
       "</style>\n",
       "<table border=\"1\" class=\"dataframe\">\n",
       "  <thead>\n",
       "    <tr style=\"text-align: right;\">\n",
       "      <th></th>\n",
       "      <th>TransactionID</th>\n",
       "      <th>Date</th>\n",
       "      <th>Time</th>\n",
       "      <th>CustomerID</th>\n",
       "      <th>Age</th>\n",
       "      <th>Gender</th>\n",
       "      <th>Location</th>\n",
       "      <th>OnlineOrderFlag</th>\n",
       "      <th>ProductID</th>\n",
       "      <th>ProductName</th>\n",
       "      <th>...</th>\n",
       "      <th>Quantity</th>\n",
       "      <th>UnitPrice</th>\n",
       "      <th>TotalPrice</th>\n",
       "      <th>PaymentType</th>\n",
       "      <th>PromotionApplied</th>\n",
       "      <th>DiscountAmount</th>\n",
       "      <th>GiftWrap</th>\n",
       "      <th>Weather</th>\n",
       "      <th>CustomerSatisfaction</th>\n",
       "      <th>ReturnFlag</th>\n",
       "    </tr>\n",
       "  </thead>\n",
       "  <tbody>\n",
       "    <tr>\n",
       "      <th>0</th>\n",
       "      <td>1</td>\n",
       "      <td>12/24/2020</td>\n",
       "      <td>7:27:59</td>\n",
       "      <td>441</td>\n",
       "      <td>27</td>\n",
       "      <td>Other</td>\n",
       "      <td>City_15</td>\n",
       "      <td>True</td>\n",
       "      <td>106</td>\n",
       "      <td>Toys_Product</td>\n",
       "      <td>...</td>\n",
       "      <td>5</td>\n",
       "      <td>96.786255</td>\n",
       "      <td>483.931273</td>\n",
       "      <td>Credit Card</td>\n",
       "      <td>False</td>\n",
       "      <td>0.000000</td>\n",
       "      <td>False</td>\n",
       "      <td>Snowy</td>\n",
       "      <td>5</td>\n",
       "      <td>False</td>\n",
       "    </tr>\n",
       "    <tr>\n",
       "      <th>1</th>\n",
       "      <td>2</td>\n",
       "      <td>11/18/2022</td>\n",
       "      <td>14:36:39</td>\n",
       "      <td>340</td>\n",
       "      <td>43</td>\n",
       "      <td>Male</td>\n",
       "      <td>City_13</td>\n",
       "      <td>True</td>\n",
       "      <td>816</td>\n",
       "      <td>Clothing_Product</td>\n",
       "      <td>...</td>\n",
       "      <td>1</td>\n",
       "      <td>95.279579</td>\n",
       "      <td>95.279579</td>\n",
       "      <td>Credit Card</td>\n",
       "      <td>True</td>\n",
       "      <td>0.000000</td>\n",
       "      <td>True</td>\n",
       "      <td>Sunny</td>\n",
       "      <td>2</td>\n",
       "      <td>True</td>\n",
       "    </tr>\n",
       "    <tr>\n",
       "      <th>2</th>\n",
       "      <td>3</td>\n",
       "      <td>12/26/2019</td>\n",
       "      <td>20:23:50</td>\n",
       "      <td>31</td>\n",
       "      <td>25</td>\n",
       "      <td>Other</td>\n",
       "      <td>City_7</td>\n",
       "      <td>False</td>\n",
       "      <td>508</td>\n",
       "      <td>Clothing_Product</td>\n",
       "      <td>...</td>\n",
       "      <td>2</td>\n",
       "      <td>52.371645</td>\n",
       "      <td>104.743291</td>\n",
       "      <td>Credit Card</td>\n",
       "      <td>False</td>\n",
       "      <td>0.000000</td>\n",
       "      <td>False</td>\n",
       "      <td>Rainy</td>\n",
       "      <td>4</td>\n",
       "      <td>False</td>\n",
       "    </tr>\n",
       "    <tr>\n",
       "      <th>3</th>\n",
       "      <td>4</td>\n",
       "      <td>11/13/2018</td>\n",
       "      <td>23:08:08</td>\n",
       "      <td>39</td>\n",
       "      <td>64</td>\n",
       "      <td>Male</td>\n",
       "      <td>City_20</td>\n",
       "      <td>False</td>\n",
       "      <td>710</td>\n",
       "      <td>Toys_Product</td>\n",
       "      <td>...</td>\n",
       "      <td>5</td>\n",
       "      <td>63.647293</td>\n",
       "      <td>318.236463</td>\n",
       "      <td>Debit Card</td>\n",
       "      <td>False</td>\n",
       "      <td>0.000000</td>\n",
       "      <td>True</td>\n",
       "      <td>Rainy</td>\n",
       "      <td>1</td>\n",
       "      <td>True</td>\n",
       "    </tr>\n",
       "    <tr>\n",
       "      <th>4</th>\n",
       "      <td>5</td>\n",
       "      <td>12/13/2020</td>\n",
       "      <td>4:38:08</td>\n",
       "      <td>344</td>\n",
       "      <td>26</td>\n",
       "      <td>Other</td>\n",
       "      <td>City_10</td>\n",
       "      <td>False</td>\n",
       "      <td>687</td>\n",
       "      <td>Toys_Product</td>\n",
       "      <td>...</td>\n",
       "      <td>3</td>\n",
       "      <td>57.384041</td>\n",
       "      <td>172.152122</td>\n",
       "      <td>Cash</td>\n",
       "      <td>False</td>\n",
       "      <td>0.000000</td>\n",
       "      <td>True</td>\n",
       "      <td>Sunny</td>\n",
       "      <td>4</td>\n",
       "      <td>False</td>\n",
       "    </tr>\n",
       "    <tr>\n",
       "      <th>...</th>\n",
       "      <td>...</td>\n",
       "      <td>...</td>\n",
       "      <td>...</td>\n",
       "      <td>...</td>\n",
       "      <td>...</td>\n",
       "      <td>...</td>\n",
       "      <td>...</td>\n",
       "      <td>...</td>\n",
       "      <td>...</td>\n",
       "      <td>...</td>\n",
       "      <td>...</td>\n",
       "      <td>...</td>\n",
       "      <td>...</td>\n",
       "      <td>...</td>\n",
       "      <td>...</td>\n",
       "      <td>...</td>\n",
       "      <td>...</td>\n",
       "      <td>...</td>\n",
       "      <td>...</td>\n",
       "      <td>...</td>\n",
       "      <td>...</td>\n",
       "    </tr>\n",
       "    <tr>\n",
       "      <th>9995</th>\n",
       "      <td>9996</td>\n",
       "      <td>12/21/2022</td>\n",
       "      <td>12:05:06</td>\n",
       "      <td>245</td>\n",
       "      <td>25</td>\n",
       "      <td>Other</td>\n",
       "      <td>City_10</td>\n",
       "      <td>True</td>\n",
       "      <td>54</td>\n",
       "      <td>Decorations_Product</td>\n",
       "      <td>...</td>\n",
       "      <td>1</td>\n",
       "      <td>91.072121</td>\n",
       "      <td>91.072121</td>\n",
       "      <td>Credit Card</td>\n",
       "      <td>False</td>\n",
       "      <td>9.107212</td>\n",
       "      <td>True</td>\n",
       "      <td>Sunny</td>\n",
       "      <td>4</td>\n",
       "      <td>False</td>\n",
       "    </tr>\n",
       "    <tr>\n",
       "      <th>9996</th>\n",
       "      <td>9997</td>\n",
       "      <td>11/24/2022</td>\n",
       "      <td>17:28:29</td>\n",
       "      <td>295</td>\n",
       "      <td>46</td>\n",
       "      <td>Female</td>\n",
       "      <td>City_17</td>\n",
       "      <td>True</td>\n",
       "      <td>324</td>\n",
       "      <td>Electronics_Product</td>\n",
       "      <td>...</td>\n",
       "      <td>1</td>\n",
       "      <td>41.538590</td>\n",
       "      <td>41.538590</td>\n",
       "      <td>Debit Card</td>\n",
       "      <td>True</td>\n",
       "      <td>4.153859</td>\n",
       "      <td>True</td>\n",
       "      <td>Rainy</td>\n",
       "      <td>2</td>\n",
       "      <td>True</td>\n",
       "    </tr>\n",
       "    <tr>\n",
       "      <th>9997</th>\n",
       "      <td>9998</td>\n",
       "      <td>11/2/2021</td>\n",
       "      <td>23:20:58</td>\n",
       "      <td>202</td>\n",
       "      <td>46</td>\n",
       "      <td>Female</td>\n",
       "      <td>City_13</td>\n",
       "      <td>False</td>\n",
       "      <td>892</td>\n",
       "      <td>Food_Product</td>\n",
       "      <td>...</td>\n",
       "      <td>3</td>\n",
       "      <td>24.561093</td>\n",
       "      <td>73.683280</td>\n",
       "      <td>Cash</td>\n",
       "      <td>True</td>\n",
       "      <td>7.368328</td>\n",
       "      <td>True</td>\n",
       "      <td>Snowy</td>\n",
       "      <td>2</td>\n",
       "      <td>False</td>\n",
       "    </tr>\n",
       "    <tr>\n",
       "      <th>9998</th>\n",
       "      <td>9999</td>\n",
       "      <td>11/11/2020</td>\n",
       "      <td>11:33:17</td>\n",
       "      <td>310</td>\n",
       "      <td>64</td>\n",
       "      <td>Other</td>\n",
       "      <td>City_8</td>\n",
       "      <td>True</td>\n",
       "      <td>237</td>\n",
       "      <td>Electronics_Product</td>\n",
       "      <td>...</td>\n",
       "      <td>3</td>\n",
       "      <td>20.334764</td>\n",
       "      <td>61.004291</td>\n",
       "      <td>Online Payment</td>\n",
       "      <td>True</td>\n",
       "      <td>0.000000</td>\n",
       "      <td>True</td>\n",
       "      <td>Sunny</td>\n",
       "      <td>1</td>\n",
       "      <td>False</td>\n",
       "    </tr>\n",
       "    <tr>\n",
       "      <th>9999</th>\n",
       "      <td>10000</td>\n",
       "      <td>11/16/2022</td>\n",
       "      <td>17:01:01</td>\n",
       "      <td>469</td>\n",
       "      <td>39</td>\n",
       "      <td>Female</td>\n",
       "      <td>City_15</td>\n",
       "      <td>True</td>\n",
       "      <td>490</td>\n",
       "      <td>Electronics_Product</td>\n",
       "      <td>...</td>\n",
       "      <td>4</td>\n",
       "      <td>82.007183</td>\n",
       "      <td>328.028730</td>\n",
       "      <td>Cash</td>\n",
       "      <td>True</td>\n",
       "      <td>0.000000</td>\n",
       "      <td>True</td>\n",
       "      <td>Snowy</td>\n",
       "      <td>2</td>\n",
       "      <td>True</td>\n",
       "    </tr>\n",
       "  </tbody>\n",
       "</table>\n",
       "<p>10000 rows × 21 columns</p>\n",
       "</div>"
      ],
      "text/plain": [
       "      TransactionID        Date      Time  CustomerID  Age  Gender Location  \\\n",
       "0                 1  12/24/2020   7:27:59         441   27   Other  City_15   \n",
       "1                 2  11/18/2022  14:36:39         340   43    Male  City_13   \n",
       "2                 3  12/26/2019  20:23:50          31   25   Other   City_7   \n",
       "3                 4  11/13/2018  23:08:08          39   64    Male  City_20   \n",
       "4                 5  12/13/2020   4:38:08         344   26   Other  City_10   \n",
       "...             ...         ...       ...         ...  ...     ...      ...   \n",
       "9995           9996  12/21/2022  12:05:06         245   25   Other  City_10   \n",
       "9996           9997  11/24/2022  17:28:29         295   46  Female  City_17   \n",
       "9997           9998   11/2/2021  23:20:58         202   46  Female  City_13   \n",
       "9998           9999  11/11/2020  11:33:17         310   64   Other   City_8   \n",
       "9999          10000  11/16/2022  17:01:01         469   39  Female  City_15   \n",
       "\n",
       "      OnlineOrderFlag  ProductID          ProductName  ... Quantity  \\\n",
       "0                True        106         Toys_Product  ...        5   \n",
       "1                True        816     Clothing_Product  ...        1   \n",
       "2               False        508     Clothing_Product  ...        2   \n",
       "3               False        710         Toys_Product  ...        5   \n",
       "4               False        687         Toys_Product  ...        3   \n",
       "...               ...        ...                  ...  ...      ...   \n",
       "9995             True         54  Decorations_Product  ...        1   \n",
       "9996             True        324  Electronics_Product  ...        1   \n",
       "9997            False        892         Food_Product  ...        3   \n",
       "9998             True        237  Electronics_Product  ...        3   \n",
       "9999             True        490  Electronics_Product  ...        4   \n",
       "\n",
       "      UnitPrice  TotalPrice     PaymentType PromotionApplied  DiscountAmount  \\\n",
       "0     96.786255  483.931273     Credit Card            False        0.000000   \n",
       "1     95.279579   95.279579     Credit Card             True        0.000000   \n",
       "2     52.371645  104.743291     Credit Card            False        0.000000   \n",
       "3     63.647293  318.236463      Debit Card            False        0.000000   \n",
       "4     57.384041  172.152122            Cash            False        0.000000   \n",
       "...         ...         ...             ...              ...             ...   \n",
       "9995  91.072121   91.072121     Credit Card            False        9.107212   \n",
       "9996  41.538590   41.538590      Debit Card             True        4.153859   \n",
       "9997  24.561093   73.683280            Cash             True        7.368328   \n",
       "9998  20.334764   61.004291  Online Payment             True        0.000000   \n",
       "9999  82.007183  328.028730            Cash             True        0.000000   \n",
       "\n",
       "      GiftWrap  Weather CustomerSatisfaction  ReturnFlag  \n",
       "0        False    Snowy                    5       False  \n",
       "1         True    Sunny                    2        True  \n",
       "2        False    Rainy                    4       False  \n",
       "3         True    Rainy                    1        True  \n",
       "4         True    Sunny                    4       False  \n",
       "...        ...      ...                  ...         ...  \n",
       "9995      True    Sunny                    4       False  \n",
       "9996      True    Rainy                    2        True  \n",
       "9997      True    Snowy                    2       False  \n",
       "9998      True    Sunny                    1       False  \n",
       "9999      True    Snowy                    2        True  \n",
       "\n",
       "[10000 rows x 21 columns]"
      ]
     },
     "execution_count": 10,
     "metadata": {},
     "output_type": "execute_result"
    }
   ],
   "source": [
    "df"
   ]
  },
  {
   "cell_type": "markdown",
   "id": "3908a9d0",
   "metadata": {},
   "source": [
    "### Exploratory Data Analysis"
   ]
  },
  {
   "cell_type": "markdown",
   "id": "63bea9d7",
   "metadata": {},
   "source": [
    "* ##### Descriptive Analysis"
   ]
  },
  {
   "cell_type": "code",
   "execution_count": 12,
   "id": "05c4c53a",
   "metadata": {},
   "outputs": [
    {
     "data": {
      "text/plain": [
       "count    10000.000000\n",
       "mean        43.791700\n",
       "std         15.366585\n",
       "min         18.000000\n",
       "25%         30.000000\n",
       "50%         44.000000\n",
       "75%         57.000000\n",
       "max         70.000000\n",
       "Name: Age, dtype: float64"
      ]
     },
     "execution_count": 12,
     "metadata": {},
     "output_type": "execute_result"
    }
   ],
   "source": [
    "df['Age'].describe()"
   ]
  },
  {
   "cell_type": "code",
   "execution_count": 13,
   "id": "5686e33c",
   "metadata": {},
   "outputs": [
    {
     "data": {
      "text/plain": [
       "count     10000\n",
       "unique        3\n",
       "top        Male\n",
       "freq       3385\n",
       "Name: Gender, dtype: object"
      ]
     },
     "execution_count": 13,
     "metadata": {},
     "output_type": "execute_result"
    }
   ],
   "source": [
    "df['Gender'].describe()"
   ]
  },
  {
   "cell_type": "code",
   "execution_count": 14,
   "id": "6717ff13",
   "metadata": {},
   "outputs": [
    {
     "data": {
      "text/plain": [
       "count    10000.000000\n",
       "mean       500.234800\n",
       "std        288.741317\n",
       "min          1.000000\n",
       "25%        252.000000\n",
       "50%        500.000000\n",
       "75%        750.000000\n",
       "max       1000.000000\n",
       "Name: ProductID, dtype: float64"
      ]
     },
     "execution_count": 14,
     "metadata": {},
     "output_type": "execute_result"
    }
   ],
   "source": [
    "df['ProductID'].describe()"
   ]
  },
  {
   "cell_type": "code",
   "execution_count": 15,
   "id": "037339c7",
   "metadata": {},
   "outputs": [
    {
     "data": {
      "text/plain": [
       "count       10000\n",
       "unique         20\n",
       "top       City_13\n",
       "freq          550\n",
       "Name: Location, dtype: object"
      ]
     },
     "execution_count": 15,
     "metadata": {},
     "output_type": "execute_result"
    }
   ],
   "source": [
    "df['Location'].describe()"
   ]
  },
  {
   "cell_type": "code",
   "execution_count": 16,
   "id": "532f0b2a",
   "metadata": {},
   "outputs": [
    {
     "data": {
      "text/plain": [
       "count     10000\n",
       "unique        4\n",
       "top        Cash\n",
       "freq       2540\n",
       "Name: PaymentType, dtype: object"
      ]
     },
     "execution_count": 16,
     "metadata": {},
     "output_type": "execute_result"
    }
   ],
   "source": [
    "df['PaymentType'].describe()"
   ]
  },
  {
   "cell_type": "code",
   "execution_count": 17,
   "id": "8332c870",
   "metadata": {},
   "outputs": [
    {
     "data": {
      "text/plain": [
       "count     10000\n",
       "unique        3\n",
       "top       Rainy\n",
       "freq       3408\n",
       "Name: Weather, dtype: object"
      ]
     },
     "execution_count": 17,
     "metadata": {},
     "output_type": "execute_result"
    }
   ],
   "source": [
    "df['Weather'].describe()"
   ]
  },
  {
   "cell_type": "markdown",
   "id": "0ee2cb9c",
   "metadata": {},
   "source": [
    "* ### Using SqL for proper EDA."
   ]
  },
  {
   "cell_type": "code",
   "execution_count": 18,
   "id": "d4f67396",
   "metadata": {
    "collapsed": true
   },
   "outputs": [
    {
     "name": "stdout",
     "output_type": "stream",
     "text": [
      "Requirement already satisfied: pandasql in c:\\users\\hp\\anaconda3\\lib\\site-packages (0.7.3)\n",
      "Requirement already satisfied: numpy in c:\\users\\hp\\anaconda3\\lib\\site-packages (from pandasql) (1.24.3)\n",
      "Requirement already satisfied: pandas in c:\\users\\hp\\anaconda3\\lib\\site-packages (from pandasql) (2.0.3)\n",
      "Requirement already satisfied: sqlalchemy in c:\\users\\hp\\anaconda3\\lib\\site-packages (from pandasql) (1.4.39)\n",
      "Requirement already satisfied: python-dateutil>=2.8.2 in c:\\users\\hp\\anaconda3\\lib\\site-packages (from pandas->pandasql) (2.8.2)\n",
      "Requirement already satisfied: pytz>=2020.1 in c:\\users\\hp\\anaconda3\\lib\\site-packages (from pandas->pandasql) (2023.3.post1)\n",
      "Requirement already satisfied: tzdata>=2022.1 in c:\\users\\hp\\anaconda3\\lib\\site-packages (from pandas->pandasql) (2023.3)\n",
      "Requirement already satisfied: greenlet!=0.4.17 in c:\\users\\hp\\anaconda3\\lib\\site-packages (from sqlalchemy->pandasql) (2.0.1)\n",
      "Requirement already satisfied: six>=1.5 in c:\\users\\hp\\anaconda3\\lib\\site-packages (from python-dateutil>=2.8.2->pandas->pandasql) (1.16.0)\n"
     ]
    },
    {
     "name": "stderr",
     "output_type": "stream",
     "text": [
      "WARNING: Retrying (Retry(total=4, connect=None, read=None, redirect=None, status=None)) after connection broken by 'NewConnectionError('<pip._vendor.urllib3.connection.HTTPSConnection object at 0x00000247854DE090>: Failed to establish a new connection: [Errno 11001] getaddrinfo failed')': /simple/pandasql/\n",
      "WARNING: Retrying (Retry(total=3, connect=None, read=None, redirect=None, status=None)) after connection broken by 'NewConnectionError('<pip._vendor.urllib3.connection.HTTPSConnection object at 0x00000247854ED210>: Failed to establish a new connection: [Errno 11001] getaddrinfo failed')': /simple/pandasql/\n",
      "WARNING: Retrying (Retry(total=2, connect=None, read=None, redirect=None, status=None)) after connection broken by 'NewConnectionError('<pip._vendor.urllib3.connection.HTTPSConnection object at 0x00000247854FA0D0>: Failed to establish a new connection: [Errno 11001] getaddrinfo failed')': /simple/pandasql/\n",
      "WARNING: Retrying (Retry(total=1, connect=None, read=None, redirect=None, status=None)) after connection broken by 'NewConnectionError('<pip._vendor.urllib3.connection.HTTPSConnection object at 0x00000247854F8710>: Failed to establish a new connection: [Errno 11001] getaddrinfo failed')': /simple/pandasql/\n",
      "WARNING: Retrying (Retry(total=0, connect=None, read=None, redirect=None, status=None)) after connection broken by 'NewConnectionError('<pip._vendor.urllib3.connection.HTTPSConnection object at 0x0000024785508410>: Failed to establish a new connection: [Errno 11001] getaddrinfo failed')': /simple/pandasql/\n"
     ]
    }
   ],
   "source": [
    "! pip install -U pandasql"
   ]
  },
  {
   "cell_type": "code",
   "execution_count": 19,
   "id": "bb12e0c3",
   "metadata": {},
   "outputs": [],
   "source": [
    "#Using SQL to wrangle data.\n",
    "from pandasql import sqldf"
   ]
  },
  {
   "cell_type": "markdown",
   "id": "036aa484",
   "metadata": {},
   "source": [
    "* #### Sales trend over time."
   ]
  },
  {
   "cell_type": "code",
   "execution_count": 26,
   "id": "88cb72f5",
   "metadata": {},
   "outputs": [],
   "source": [
    "#The days with most sales.\n",
    "c = \"\"\"\n",
    "    SELECT Date,MAX(TotalPrice)\n",
    "    FROM df\n",
    "    GROUP BY TotalPrice\n",
    "    ORDER BY TotalPrice DESC\n",
    "    LIMIT 5;\n",
    "    \"\"\""
   ]
  },
  {
   "cell_type": "code",
   "execution_count": 27,
   "id": "237be501",
   "metadata": {},
   "outputs": [
    {
     "name": "stdout",
     "output_type": "stream",
     "text": [
      "         Date  MAX(TotalPrice)\n",
      "0  11/30/2019       499.982894\n",
      "1   12/3/2020       499.870883\n",
      "2   12/2/2022       499.458664\n",
      "3   12/1/2021       499.117298\n",
      "4  12/20/2018       499.112901\n"
     ]
    }
   ],
   "source": [
    "print(sqldf(c,locals()))"
   ]
  },
  {
   "cell_type": "code",
   "execution_count": 31,
   "id": "e81f9fd1",
   "metadata": {},
   "outputs": [],
   "source": [
    "#The days with the least sales.\n",
    "d = \"\"\"\n",
    "    SELECT Date,MIN(TotalPrice)\n",
    "    FROM df\n",
    "    GROUP BY TotalPrice\n",
    "    ORDER BY TotalPrice ASC\n",
    "    LIMIT 5;\n",
    "    \"\"\""
   ]
  },
  {
   "cell_type": "code",
   "execution_count": 32,
   "id": "dd37043b",
   "metadata": {},
   "outputs": [
    {
     "name": "stdout",
     "output_type": "stream",
     "text": [
      "         Date  MIN(TotalPrice)\n",
      "0  11/28/2018        10.017153\n",
      "1  11/18/2022        10.021784\n",
      "2  12/11/2022        10.114081\n",
      "3  11/10/2021        10.270027\n",
      "4  11/26/2021        10.274273\n"
     ]
    }
   ],
   "source": [
    "print(sqldf(d,locals()))"
   ]
  },
  {
   "cell_type": "markdown",
   "id": "6901b336",
   "metadata": {},
   "source": [
    "* #### Customer Demographics/Analysis."
   ]
  },
  {
   "cell_type": "code",
   "execution_count": 123,
   "id": "dd938588",
   "metadata": {},
   "outputs": [
    {
     "name": "stdout",
     "output_type": "stream",
     "text": [
      "   CustomerID  MAX(TotalPrice)\n",
      "0         343       499.982894\n",
      "1         115       499.870883\n",
      "2         184       499.458664\n",
      "3          51       499.117298\n",
      "4          17       499.112901\n"
     ]
    }
   ],
   "source": [
    "#Customers ith most price of total goods bought and their prices.\n",
    "b = \"\"\"\n",
    "    SELECT CustomerID,MAX(TotalPrice)\n",
    "    FROM df\n",
    "    GROUP BY TotalPrice\n",
    "    ORDER BY TotalPrice DESC\n",
    "    LIMIT 5;\n",
    "    \"\"\"\n",
    "\n",
    "print(sqldf(b,locals()))"
   ]
  },
  {
   "cell_type": "code",
   "execution_count": 35,
   "id": "5e5fa3fa",
   "metadata": {},
   "outputs": [
    {
     "data": {
      "text/plain": [
       "53"
      ]
     },
     "execution_count": 35,
     "metadata": {},
     "output_type": "execute_result"
    }
   ],
   "source": [
    "#Customer Age distribution.\n",
    "df['Age'].nunique()\n"
   ]
  },
  {
   "cell_type": "code",
   "execution_count": 53,
   "id": "49e1b896",
   "metadata": {},
   "outputs": [
    {
     "data": {
      "text/plain": [
       "10000"
      ]
     },
     "execution_count": 53,
     "metadata": {},
     "output_type": "execute_result"
    }
   ],
   "source": [
    "df['Age'].count()"
   ]
  },
  {
   "cell_type": "code",
   "execution_count": 63,
   "id": "83915249",
   "metadata": {},
   "outputs": [],
   "source": [
    "#The total age distribution.\n",
    "e = \"\"\"\n",
    "    SELECT COUNT(Age),Age\n",
    "    FROM df\n",
    "    ORDER BY Age\n",
    "    \"\"\""
   ]
  },
  {
   "cell_type": "code",
   "execution_count": 64,
   "id": "c56e13d9",
   "metadata": {
    "scrolled": true
   },
   "outputs": [
    {
     "name": "stdout",
     "output_type": "stream",
     "text": [
      "    COUNT(Age)  Age\n",
      "0          215   18\n",
      "1          172   19\n",
      "2          202   20\n",
      "3          225   21\n",
      "4          210   22\n",
      "5          188   23\n",
      "6          161   24\n",
      "7          200   25\n",
      "8          185   26\n",
      "9          175   27\n",
      "10         185   28\n",
      "11         197   29\n",
      "12         197   30\n",
      "13         195   31\n",
      "14         188   32\n",
      "15         192   33\n",
      "16         206   34\n",
      "17         170   35\n",
      "18         192   36\n",
      "19         175   37\n",
      "20         213   38\n",
      "21         172   39\n",
      "22         166   40\n",
      "23         188   41\n",
      "24         189   42\n",
      "25         154   43\n",
      "26         212   44\n",
      "27         209   45\n",
      "28         197   46\n",
      "29         164   47\n",
      "30         170   48\n",
      "31         208   49\n",
      "32         190   50\n",
      "33         190   51\n",
      "34         189   52\n",
      "35         166   53\n",
      "36         184   54\n",
      "37         191   55\n",
      "38         177   56\n",
      "39         221   57\n",
      "40         195   58\n",
      "41         197   59\n",
      "42         177   60\n",
      "43         181   61\n",
      "44         200   62\n",
      "45         185   63\n",
      "46         179   64\n",
      "47         182   65\n",
      "48         180   66\n",
      "49         171   67\n",
      "50         191   68\n",
      "51         201   69\n",
      "52         181   70\n"
     ]
    }
   ],
   "source": [
    "print(sqldf(e,locals()))"
   ]
  },
  {
   "cell_type": "code",
   "execution_count": 65,
   "id": "3a692fae",
   "metadata": {},
   "outputs": [],
   "source": [
    "##The age distribution with  most sales.\n",
    "f = \"\"\"\n",
    "    SELECT COUNT(Age) as COUNT,Age\n",
    "    FROM df\n",
    "    GROUP BY Age\n",
    "    ORDER BY COUNT DESC\n",
    "    LIMIT 5\n",
    "    \"\"\""
   ]
  },
  {
   "cell_type": "code",
   "execution_count": 66,
   "id": "82d1c834",
   "metadata": {},
   "outputs": [
    {
     "name": "stdout",
     "output_type": "stream",
     "text": [
      "   COUNT  Age\n",
      "0    225   21\n",
      "1    221   57\n",
      "2    215   18\n",
      "3    213   38\n",
      "4    212   44\n"
     ]
    }
   ],
   "source": [
    "print(sqldf(f,locals()))"
   ]
  },
  {
   "cell_type": "code",
   "execution_count": 67,
   "id": "7887d43e",
   "metadata": {},
   "outputs": [],
   "source": [
    "#The age distribution with the least shopping.\n",
    "g = \"\"\"\n",
    "    SELECT COUNT(Age) as COUNT,Age\n",
    "    FROM df\n",
    "    GROUP BY Age\n",
    "    ORDER BY COUNT ASC\n",
    "    LIMIT 5\n",
    "    \"\"\""
   ]
  },
  {
   "cell_type": "code",
   "execution_count": 69,
   "id": "8955f8f2",
   "metadata": {},
   "outputs": [
    {
     "name": "stdout",
     "output_type": "stream",
     "text": [
      "   COUNT  Age\n",
      "0    154   43\n",
      "1    161   24\n",
      "2    164   47\n",
      "3    166   40\n",
      "4    166   53\n"
     ]
    }
   ],
   "source": [
    "print(sqldf(g,locals()))"
   ]
  },
  {
   "cell_type": "code",
   "execution_count": 108,
   "id": "d2493de2",
   "metadata": {},
   "outputs": [],
   "source": [
    "##The gender distribution in the christmas sales.\n",
    "h = \"\"\"\n",
    "    SELECT COUNT(Gender) as COUNT,Gender\n",
    "    FROM df\n",
    "    GROUP BY Gender\n",
    "    ORDER BY COUNT DESC\n",
    "    \"\"\""
   ]
  },
  {
   "cell_type": "code",
   "execution_count": 109,
   "id": "4769b11b",
   "metadata": {},
   "outputs": [
    {
     "name": "stdout",
     "output_type": "stream",
     "text": [
      "   COUNT  Gender\n",
      "0   3385    Male\n",
      "1   3317   Other\n",
      "2   3298  Female\n"
     ]
    }
   ],
   "source": [
    "print(sqldf(h,locals()))"
   ]
  },
  {
   "cell_type": "markdown",
   "id": "1724914b",
   "metadata": {},
   "source": [
    "* #### Online Sales"
   ]
  },
  {
   "cell_type": "code",
   "execution_count": 88,
   "id": "e539ddf3",
   "metadata": {},
   "outputs": [
    {
     "data": {
      "text/plain": [
       "count     10000\n",
       "unique        2\n",
       "top        True\n",
       "freq       5418\n",
       "Name: OnlineOrderFlag, dtype: object"
      ]
     },
     "execution_count": 88,
     "metadata": {},
     "output_type": "execute_result"
    }
   ],
   "source": [
    "#The trend of orders online in the christmas sales\n",
    "df['OnlineOrderFlag'].describe()"
   ]
  },
  {
   "cell_type": "code",
   "execution_count": 124,
   "id": "ea685db5",
   "metadata": {},
   "outputs": [
    {
     "name": "stdout",
     "output_type": "stream",
     "text": [
      "   OnlineOrderFlag     TotalPrice\n",
      "0                1  900856.588123\n",
      "1                0  753403.560117\n"
     ]
    }
   ],
   "source": [
    "a = \"\"\"\n",
    "    SELECT OnlineOrderFlag,SUM(TotalPrice) AS TotalPrice\n",
    "    FROM df\n",
    "    GROUP BY OnlineOrderFlag\n",
    "    ORDER BY TotalPrice DESC\n",
    "    \"\"\"\n",
    "\n",
    "print(sqldf(a,locals()))"
   ]
  },
  {
   "cell_type": "markdown",
   "id": "f9e297cb",
   "metadata": {},
   "source": [
    "* #### Product Analysis"
   ]
  },
  {
   "cell_type": "code",
   "execution_count": 96,
   "id": "62f7550b",
   "metadata": {},
   "outputs": [],
   "source": [
    "##The product with the most sales entry and represented by productID.\n",
    "k = \"\"\"\n",
    "    SELECT COUNT(ProductID) as COUNT,ProductID\n",
    "    FROM df\n",
    "    GROUP BY ProductID\n",
    "    ORDER BY COUNT DESC\n",
    "    Limit 5\n",
    "    \"\"\""
   ]
  },
  {
   "cell_type": "code",
   "execution_count": 97,
   "id": "d44f8f7d",
   "metadata": {},
   "outputs": [
    {
     "name": "stdout",
     "output_type": "stream",
     "text": [
      "   COUNT  ProductID\n",
      "0     21        994\n",
      "1     20        914\n",
      "2     20        711\n",
      "3     20        527\n",
      "4     19        911\n"
     ]
    }
   ],
   "source": [
    "print(sqldf(k,locals()))"
   ]
  },
  {
   "cell_type": "code",
   "execution_count": 100,
   "id": "5bf90c99",
   "metadata": {},
   "outputs": [],
   "source": [
    "##The unit products withthe highest unit prices\n",
    "m = \"\"\"\n",
    "    SELECT ProductID,ProductName,Category,UnitPrice\n",
    "    FROM df\n",
    "    GROUP BY ProductID\n",
    "    ORDER BY UnitPrice DESC\n",
    "    Limit 5\n",
    "    \"\"\""
   ]
  },
  {
   "cell_type": "code",
   "execution_count": 101,
   "id": "b23a1096",
   "metadata": {},
   "outputs": [
    {
     "name": "stdout",
     "output_type": "stream",
     "text": [
      "   ProductID          ProductName     Category  UnitPrice\n",
      "0        478         Food_Product         Food  99.922524\n",
      "1        525  Electronics_Product  Electronics  99.894685\n",
      "2        285         Food_Product         Food  99.843086\n",
      "3        333         Food_Product         Food  99.822580\n",
      "4        650  Electronics_Product  Electronics  99.696731\n"
     ]
    }
   ],
   "source": [
    "print(sqldf(m,locals()))"
   ]
  },
  {
   "cell_type": "code",
   "execution_count": 102,
   "id": "947a770e",
   "metadata": {},
   "outputs": [],
   "source": [
    "##The unit product with the least price\n",
    "n = \"\"\"\n",
    "    SELECT ProductID,ProductName,Category,UnitPrice\n",
    "    FROM df\n",
    "    GROUP BY ProductID\n",
    "    ORDER BY UnitPrice ASC\n",
    "    Limit 5\n",
    "    \"\"\""
   ]
  },
  {
   "cell_type": "code",
   "execution_count": 103,
   "id": "4af223d6",
   "metadata": {},
   "outputs": [
    {
     "name": "stdout",
     "output_type": "stream",
     "text": [
      "   ProductID          ProductName     Category  UnitPrice\n",
      "0        591     Clothing_Product     Clothing  10.069368\n",
      "1        782     Clothing_Product     Clothing  10.446036\n",
      "2        395         Food_Product         Food  10.492663\n",
      "3        947  Electronics_Product  Electronics  10.494167\n",
      "4        507  Electronics_Product  Electronics  10.609897\n"
     ]
    }
   ],
   "source": [
    "print(sqldf(n,locals()))"
   ]
  },
  {
   "cell_type": "code",
   "execution_count": 106,
   "id": "631e5320",
   "metadata": {},
   "outputs": [],
   "source": [
    "##The most purchased products in ranking.\n",
    "o = \"\"\"\n",
    "    SELECT COUNT(Category) AS Count,Category\n",
    "    FROM df\n",
    "    GROUP BY Category\n",
    "    order by count desc\n",
    "    \n",
    "    \"\"\""
   ]
  },
  {
   "cell_type": "code",
   "execution_count": 107,
   "id": "ff07f2bc",
   "metadata": {},
   "outputs": [
    {
     "name": "stdout",
     "output_type": "stream",
     "text": [
      "   Count     Category\n",
      "0   2053  Electronics\n",
      "1   2011         Toys\n",
      "2   1995  Decorations\n",
      "3   1991         Food\n",
      "4   1950     Clothing\n"
     ]
    }
   ],
   "source": [
    "print(sqldf(o,locals()))"
   ]
  },
  {
   "cell_type": "markdown",
   "id": "ec5ddbc9",
   "metadata": {},
   "source": [
    "* #### Geographical Analysis."
   ]
  },
  {
   "cell_type": "code",
   "execution_count": 110,
   "id": "68354f2d",
   "metadata": {},
   "outputs": [],
   "source": [
    "##The location with the highest sales entry\n",
    "p = \"\"\"\n",
    "    SELECT COUNT(Location) AS Count,Location\n",
    "    FROM df\n",
    "    GROUP BY Location\n",
    "    order by Count desc\n",
    "    LIMIT 5\n",
    "    \"\"\""
   ]
  },
  {
   "cell_type": "code",
   "execution_count": 112,
   "id": "e250e832",
   "metadata": {},
   "outputs": [
    {
     "name": "stdout",
     "output_type": "stream",
     "text": [
      "   Count Location\n",
      "0    550  City_13\n",
      "1    517  City_12\n",
      "2    516  City_18\n",
      "3    516   City_1\n",
      "4    515  City_14\n"
     ]
    }
   ],
   "source": [
    "print(sqldf(p,locals()))"
   ]
  },
  {
   "cell_type": "code",
   "execution_count": 115,
   "id": "1d43960a",
   "metadata": {},
   "outputs": [
    {
     "name": "stdout",
     "output_type": "stream",
     "text": [
      "  Location    TotalSales\n",
      "0  City_13  90894.610846\n",
      "1   City_1  87664.023976\n",
      "2  City_15  87294.380507\n",
      "3   City_2  86683.215730\n",
      "4  City_19  86531.005837\n"
     ]
    }
   ],
   "source": [
    "##The top 5 locations with the highest total sales\n",
    "q = \"\"\"\n",
    "    SELECT Location,SUM(TotalPrice) as TotalSales\n",
    "    FROM df\n",
    "    GROUP BY Location\n",
    "    order by TotalSales desc\n",
    "    LIMIT 5\n",
    "    \"\"\"\n",
    "\n",
    "print(sqldf(q,locals()))"
   ]
  },
  {
   "cell_type": "code",
   "execution_count": 116,
   "id": "9910933d",
   "metadata": {},
   "outputs": [
    {
     "name": "stdout",
     "output_type": "stream",
     "text": [
      "  Location    TotalSales\n",
      "0  City_10  73328.009559\n",
      "1  City_17  74580.240657\n",
      "2  City_16  76914.064461\n",
      "3   City_5  77572.800467\n",
      "4   City_7  78039.143892\n"
     ]
    }
   ],
   "source": [
    "##The top 5 locations with the least total sales\n",
    "r = \"\"\"\n",
    "    SELECT Location,SUM(TotalPrice) as TotalSales\n",
    "    FROM df\n",
    "    GROUP BY Location\n",
    "    order by TotalSales asc\n",
    "    LIMIT 5\n",
    "    \"\"\"\n",
    "\n",
    "print(sqldf(r,locals()))"
   ]
  },
  {
   "cell_type": "markdown",
   "id": "5c7ab2b7",
   "metadata": {},
   "source": [
    "* #### Payment Types"
   ]
  },
  {
   "cell_type": "code",
   "execution_count": 118,
   "id": "59ea39bd",
   "metadata": {},
   "outputs": [
    {
     "name": "stdout",
     "output_type": "stream",
     "text": [
      "      PaymentType  Count\n",
      "0            Cash   2540\n",
      "1  Online Payment   2536\n",
      "2     Credit Card   2497\n",
      "3      Debit Card   2427\n"
     ]
    }
   ],
   "source": [
    "##The various payment method and the number of times used.\n",
    "s = \"\"\"\n",
    "    SELECT PaymentType,Count(PaymentType) as Count\n",
    "    FROM df\n",
    "    GROUP BY PaymentType\n",
    "    ORDER BY Count DESC\n",
    "    \"\"\"\n",
    "\n",
    "print(sqldf(s,locals()))"
   ]
  },
  {
   "cell_type": "code",
   "execution_count": 122,
   "id": "8674db6a",
   "metadata": {},
   "outputs": [
    {
     "name": "stdout",
     "output_type": "stream",
     "text": [
      "      PaymentType     TotalPrice\n",
      "0            Cash  421579.300188\n",
      "1     Credit Card  421512.175000\n",
      "2  Online Payment  408984.335652\n",
      "3      Debit Card  402184.337400\n"
     ]
    }
   ],
   "source": [
    "##The payment types and which mode was used for most sales.\n",
    "t = \"\"\"\n",
    "    SELECT PaymentType,SUM(TotalPrice) AS TotalPrice\n",
    "    FROM df\n",
    "    GROUP BY PaymentType\n",
    "    ORDER BY TotalPrice DESC\n",
    "    \"\"\"\n",
    "\n",
    "print(sqldf(t,locals()))"
   ]
  },
  {
   "cell_type": "markdown",
   "id": "8ac9cc39",
   "metadata": {},
   "source": [
    "* #### Weather and Sales."
   ]
  },
  {
   "cell_type": "code",
   "execution_count": 121,
   "id": "18e974b5",
   "metadata": {},
   "outputs": [
    {
     "name": "stdout",
     "output_type": "stream",
     "text": [
      "  Weather  Count\n",
      "0   Rainy   3408\n",
      "1   Snowy   3324\n",
      "2   Sunny   3268\n"
     ]
    }
   ],
   "source": [
    "##The various weather condition in the sales data and their count.\n",
    "u = \"\"\"\n",
    "    SELECT Weather,Count(Weather) as Count\n",
    "    FROM df\n",
    "    GROUP BY Weather\n",
    "    ORDER BY Count DESC\n",
    "    \"\"\"\n",
    "\n",
    "print(sqldf(u,locals()))"
   ]
  },
  {
   "cell_type": "code",
   "execution_count": 125,
   "id": "398d58c1",
   "metadata": {},
   "outputs": [
    {
     "name": "stdout",
     "output_type": "stream",
     "text": [
      "  Weather     TotalPrice\n",
      "0   Rainy  576425.456736\n",
      "1   Snowy  542047.352662\n",
      "2   Sunny  535787.338842\n"
     ]
    }
   ],
   "source": [
    "## The weather condition and the total sales made.\n",
    "v = \"\"\"\n",
    "    SELECT Weather,SUM(TotalPrice) AS TotalPrice\n",
    "    FROM df\n",
    "    GROUP BY Weather\n",
    "    ORDER BY TotalPrice DESC\n",
    "    \"\"\"\n",
    "\n",
    "print(sqldf(v,locals()))"
   ]
  },
  {
   "cell_type": "code",
   "execution_count": 128,
   "id": "6d52c094",
   "metadata": {},
   "outputs": [
    {
     "name": "stdout",
     "output_type": "stream",
     "text": [
      "  Weather     TotalPrice\n",
      "0   Rainy  310917.166089\n",
      "1   Snowy  296757.336096\n",
      "2   Sunny  293182.085938\n"
     ]
    }
   ],
   "source": [
    "### The total sales made in the weather condition based on online orders\n",
    "w = \"\"\"\n",
    "    SELECT Weather,SUM(TotalPrice) AS TotalPrice\n",
    "    FROM df\n",
    "    WHERE OnlineOrderFlag = True\n",
    "    GROUP BY Weather\n",
    "    ORDER BY TotalPrice DESC\n",
    "    \"\"\"\n",
    "\n",
    "print(sqldf(w,locals()))"
   ]
  },
  {
   "cell_type": "code",
   "execution_count": 127,
   "id": "c0aa4a80",
   "metadata": {},
   "outputs": [
    {
     "name": "stdout",
     "output_type": "stream",
     "text": [
      "  Weather     TotalPrice\n",
      "0   Rainy  265508.290647\n",
      "1   Snowy  245290.016566\n",
      "2   Sunny  242605.252904\n"
     ]
    }
   ],
   "source": [
    "### The total sales made in the weather condition based on physical orders.\n",
    "x = \"\"\"\n",
    "    SELECT Weather,SUM(TotalPrice) AS TotalPrice\n",
    "    FROM df\n",
    "    WHERE OnlineOrderFlag = False\n",
    "    GROUP BY Weather\n",
    "    ORDER BY TotalPrice DESC\n",
    "    \"\"\"\n",
    "\n",
    "print(sqldf(x,locals()))"
   ]
  },
  {
   "cell_type": "markdown",
   "id": "c44a2952",
   "metadata": {},
   "source": [
    "* #### Customer Satisfaction and Returns Analysis."
   ]
  },
  {
   "cell_type": "code",
   "execution_count": 129,
   "id": "c7e82ba6",
   "metadata": {},
   "outputs": [
    {
     "name": "stdout",
     "output_type": "stream",
     "text": [
      "   CustomerSatisfaction  Count\n",
      "0                     1   2070\n",
      "1                     4   1991\n",
      "2                     3   1991\n",
      "3                     5   1974\n",
      "4                     2   1974\n"
     ]
    }
   ],
   "source": [
    "### The customer satisfaction ratings and their counts. \n",
    "y = \"\"\"\n",
    "    SELECT CustomerSatisfaction,Count(CustomerSatisfaction) as Count\n",
    "    FROM df\n",
    "    GROUP BY CustomerSatisfaction\n",
    "    ORDER BY Count DESC\n",
    "    \"\"\"\n",
    "\n",
    "print(sqldf(y,locals()))"
   ]
  },
  {
   "cell_type": "code",
   "execution_count": 130,
   "id": "59854280",
   "metadata": {},
   "outputs": [
    {
     "name": "stdout",
     "output_type": "stream",
     "text": [
      "   CustomerSatisfaction  Count\n",
      "0                     3   1057\n",
      "1                     1   1053\n",
      "2                     2    991\n",
      "3                     4    986\n",
      "4                     5    967\n"
     ]
    }
   ],
   "source": [
    "### The customer satisfaction rating and count when a product is returned.\n",
    "z = \"\"\"\n",
    "    SELECT CustomerSatisfaction,Count(CustomerSatisfaction) as Count\n",
    "    FROM df\n",
    "    WHERE ReturnFlag = True\n",
    "    GROUP BY CustomerSatisfaction\n",
    "    ORDER BY Count DESC\n",
    "    \"\"\"\n",
    "\n",
    "print(sqldf(z,locals()))"
   ]
  },
  {
   "cell_type": "code",
   "execution_count": 131,
   "id": "e4a195a9",
   "metadata": {},
   "outputs": [
    {
     "name": "stdout",
     "output_type": "stream",
     "text": [
      "   CustomerSatisfaction  Count\n",
      "0                     1   1017\n",
      "1                     5   1007\n",
      "2                     4   1005\n",
      "3                     2    983\n",
      "4                     3    934\n"
     ]
    }
   ],
   "source": [
    "### The customer satisfaction rating and count when a product is not returned.\n",
    "a1 = \"\"\"\n",
    "    SELECT CustomerSatisfaction,Count(CustomerSatisfaction) as Count\n",
    "    FROM df\n",
    "    WHERE ReturnFlag = False\n",
    "    GROUP BY CustomerSatisfaction\n",
    "    ORDER BY Count DESC\n",
    "    \"\"\"\n",
    "\n",
    "print(sqldf(a1,locals()))"
   ]
  },
  {
   "cell_type": "code",
   "execution_count": 132,
   "id": "960c6021",
   "metadata": {},
   "outputs": [
    {
     "name": "stdout",
     "output_type": "stream",
     "text": [
      "           ProductName  Count\n",
      "0  Electronics_Product   1062\n",
      "1         Toys_Product   1025\n",
      "2  Decorations_Product   1014\n",
      "3         Food_Product   1008\n",
      "4     Clothing_Product    945\n"
     ]
    }
   ],
   "source": [
    "###The products that has been returned the most in the sales data\n",
    "a2 = \"\"\"\n",
    "    SELECT ProductName,Count(ProductName) as Count\n",
    "    FROM df\n",
    "    WHERE ReturnFlag = True\n",
    "    GROUP BY ProductName\n",
    "    ORDER BY Count DESC\n",
    "    \"\"\"\n",
    "\n",
    "print(sqldf(a2,locals()))"
   ]
  },
  {
   "cell_type": "code",
   "execution_count": 134,
   "id": "ce236f87",
   "metadata": {},
   "outputs": [
    {
     "name": "stdout",
     "output_type": "stream",
     "text": [
      "  Location  Count\n",
      "0  City_13    289\n",
      "1  City_12    276\n",
      "2   City_3    274\n"
     ]
    }
   ],
   "source": [
    "###The location with the most number of products returned.\n",
    "a3 = \"\"\"\n",
    "    SELECT Location,Count(Location) as Count\n",
    "    FROM df\n",
    "    WHERE ReturnFlag = True\n",
    "    GROUP BY Location\n",
    "    ORDER BY Count DESC\n",
    "    LIMIT 3\n",
    "    \"\"\"\n",
    "\n",
    "print(sqldf(a3,locals()))"
   ]
  },
  {
   "cell_type": "markdown",
   "id": "f83b63dc",
   "metadata": {},
   "source": [
    "* #### Gift Wrapping Service Analysis."
   ]
  },
  {
   "cell_type": "code",
   "execution_count": 136,
   "id": "3388f738",
   "metadata": {},
   "outputs": [
    {
     "name": "stdout",
     "output_type": "stream",
     "text": [
      "   GiftWrap  Count\n",
      "0         1   5025\n",
      "1         0   4975\n"
     ]
    }
   ],
   "source": [
    "## Gift Wraps and their count.\n",
    "b1 = \"\"\"\n",
    "    SELECT GiftWrap,Count(GiftWrap) as Count\n",
    "    FROM df\n",
    "    GROUP BY GiftWrap\n",
    "    ORDER BY Count DESC\n",
    "    \"\"\"\n",
    "\n",
    "print(sqldf(b1,locals()))"
   ]
  },
  {
   "cell_type": "code",
   "execution_count": 137,
   "id": "bfeeac38",
   "metadata": {},
   "outputs": [
    {
     "name": "stdout",
     "output_type": "stream",
     "text": [
      "           ProductName  Count\n",
      "0  Electronics_Product   1032\n",
      "1         Toys_Product   1028\n",
      "2  Decorations_Product   1025\n",
      "3         Food_Product    976\n",
      "4     Clothing_Product    964\n"
     ]
    }
   ],
   "source": [
    "##The product and their counts on number of times wrapped.\n",
    "b2 = \"\"\"\n",
    "    SELECT ProductName,Count(ProductName) as Count\n",
    "    FROM df\n",
    "    WHERE GiftWrap = True\n",
    "    GROUP BY ProductName\n",
    "    ORDER BY Count DESC\n",
    "    \"\"\"\n",
    "\n",
    "print(sqldf(b2,locals()))"
   ]
  },
  {
   "cell_type": "markdown",
   "id": "29477c4c",
   "metadata": {},
   "source": [
    "### Visualizations would be presented in Microsoft PowerBI."
   ]
  }
 ],
 "metadata": {
  "kernelspec": {
   "display_name": "Python 3 (ipykernel)",
   "language": "python",
   "name": "python3"
  },
  "language_info": {
   "codemirror_mode": {
    "name": "ipython",
    "version": 3
   },
   "file_extension": ".py",
   "mimetype": "text/x-python",
   "name": "python",
   "nbconvert_exporter": "python",
   "pygments_lexer": "ipython3",
   "version": "3.11.5"
  }
 },
 "nbformat": 4,
 "nbformat_minor": 5
}
